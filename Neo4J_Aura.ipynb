{
  "nbformat": 4,
  "nbformat_minor": 0,
  "metadata": {
    "colab": {
      "provenance": []
    },
    "kernelspec": {
      "name": "python3",
      "display_name": "Python 3"
    },
    "language_info": {
      "name": "python"
    }
  },
  "cells": [
    {
      "cell_type": "code",
      "source": [
        "!pip install neo4j"
      ],
      "metadata": {
        "colab": {
          "base_uri": "https://localhost:8080/"
        },
        "id": "pQvYdhQ_376d",
        "outputId": "e9445de8-4e9c-48dc-a148-b26d2934b5cc"
      },
      "execution_count": null,
      "outputs": [
        {
          "output_type": "stream",
          "name": "stdout",
          "text": [
            "Requirement already satisfied: neo4j in /usr/local/lib/python3.10/dist-packages (5.12.0)\n",
            "Requirement already satisfied: pytz in /usr/local/lib/python3.10/dist-packages (from neo4j) (2023.3.post1)\n"
          ]
        }
      ]
    },
    {
      "cell_type": "code",
      "source": [
        "# Driver import\n",
        "from neo4j import GraphDatabase"
      ],
      "metadata": {
        "id": "NLEKMZfA4DqD"
      },
      "execution_count": null,
      "outputs": []
    },
    {
      "cell_type": "code",
      "source": [
        "# Replace with the actual URI, username and password\n",
        "AURA_CONNECTION_URI = \"neo4j+s://c973d977.databases.neo4j.io\"\n",
        "AURA_USERNAME = \"neo4j\"\n",
        "AURA_PASSWORD = \"<password>\"\n",
        "\n",
        "# Driver instantiation\n",
        "driver = GraphDatabase.driver(\n",
        "    AURA_CONNECTION_URI,\n",
        "    auth=(AURA_USERNAME, AURA_PASSWORD)\n",
        ")"
      ],
      "metadata": {
        "id": "bAdkNYgJ4FpY"
      },
      "execution_count": null,
      "outputs": []
    },
    {
      "cell_type": "code",
      "source": [
        "# Cypher query\n",
        "gds_version_query = \"\"\"\n",
        "    RETURN gds.version() AS version\n",
        "\"\"\"\n",
        "\n",
        "# Create a driver session\n",
        "with driver.session() as session:\n",
        "    # Use .data() to access the results array\n",
        "    results = session.run(gds_version_query).data()\n",
        "    print(results)"
      ],
      "metadata": {
        "id": "H3s_QFSE6bhE"
      },
      "execution_count": null,
      "outputs": []
    },
    {
      "cell_type": "code",
      "source": [
        "# Import the json module for pretty visualization\n",
        "import json\n",
        "\n",
        "# Cypher query\n",
        "list_all_gds_procedures_query = \"\"\"\n",
        "    CALL gds.list()\n",
        "\"\"\"\n",
        "\n",
        "# Create a driver session\n",
        "with driver.session() as session:\n",
        "    # Use .data() to access the results array\n",
        "    results = session.run(list_all_gds_procedures_query).data()\n",
        "\n",
        "    # Print the prettified result\n",
        "    print(json.dumps(results[:5], indent=2))"
      ],
      "metadata": {
        "id": "bPhpLD8c4gy3"
      },
      "execution_count": null,
      "outputs": []
    }
  ]
}